{
 "cells": [
  {
   "cell_type": "markdown",
   "metadata": {},
   "source": [
    "# NumPy Practice\n",
    "\n",
    "This notebook offers a set of exercises for different tasks with NumPy.\n",
    "\n",
    "It should be noted there may be more than one different way to answer a question or complete an exercise.\n",
    "\n",
    "Different tasks will be detailed by comments or text.\n",
    "\n",
    "For further reference and resources, it's advised to check out the [NumPy documentation](https://numpy.org/devdocs/user/index.html).\n",
    "\n",
    "And if you get stuck, try searching for a question in the following format: \"how to do XYZ with numpy\", where XYZ is the function you want to leverage from NumPy."
   ]
  },
  {
   "cell_type": "code",
   "execution_count": 1,
   "metadata": {},
   "outputs": [],
   "source": [
    "# Import NumPy as its abbreviation 'np'\n",
    "import numpy as np"
   ]
  },
  {
   "cell_type": "code",
   "execution_count": 191,
   "metadata": {},
   "outputs": [
    {
     "name": "stdout",
     "output_type": "stream",
     "text": [
      "[0 1 2 3 4 5] \n",
      "\n",
      "[[ 7  8  9 10 11]\n",
      " [13 14 15 16 17]] \n",
      "\n",
      "[[ 0  1  2  3  4  5]\n",
      " [ 6  7  8  9 10 11]\n",
      " [12 13 14 15 16 17]]\n"
     ]
    }
   ],
   "source": [
    "# Create a 1-dimensional NumPy array using np.array()\n",
    "arr1 = np.array([0, 1, 2, 3, 4, 5])\n",
    "print(arr1[0:6], '\\n')\n",
    "\n",
    "# Create a 2-dimensional NumPy array using np.array()\n",
    "arr2 = np.array([[6, 7, 8, 9, 10, 11], [12, 13, 14, 15, 16, 17]])\n",
    "print(arr2[0:6, 1:6], '\\n')\n",
    "# Create a 3-dimensional Numpy array using np.array()\n",
    "arr3 = np.array([[0, 1, 2, 3, 4, 5], [6, 7, 8, 9, 10, 11], [12, 13, 14, 15, 16, 17]])\n",
    "print(arr3)"
   ]
  },
  {
   "cell_type": "markdown",
   "metadata": {},
   "source": [
    "Now we've you've created 3 different arrays, let's find details about them.\n",
    "\n",
    "Find the shape, number of dimensions, data type, size and type of each array."
   ]
  },
  {
   "cell_type": "code",
   "execution_count": 192,
   "metadata": {},
   "outputs": [
    {
     "name": "stdout",
     "output_type": "stream",
     "text": [
      "(6,) \n",
      "\n",
      "1 \n",
      "\n",
      "int64 \n",
      "\n",
      "6\n"
     ]
    }
   ],
   "source": [
    "# Attributes of 1-dimensional array (shape, \n",
    "# number of dimensions, data type, size and type)\n",
    "print(arr1.shape, '\\n')\n",
    "print(arr1.ndim, '\\n')\n",
    "print(arr1.dtype, '\\n')\n",
    "print(arr1.size)"
   ]
  },
  {
   "cell_type": "code",
   "execution_count": 190,
   "metadata": {},
   "outputs": [
    {
     "name": "stdout",
     "output_type": "stream",
     "text": [
      "(2, 6) \n",
      "\n",
      "2 \n",
      "\n",
      "int64 \n",
      "\n",
      "12\n"
     ]
    }
   ],
   "source": [
    "# Attributes of 2-dimensional array\n",
    "print(arr2.shape, '\\n')\n",
    "print(arr2.ndim, '\\n')\n",
    "print(arr2.dtype, '\\n')\n",
    "print(arr2.size)"
   ]
  },
  {
   "cell_type": "code",
   "execution_count": 189,
   "metadata": {},
   "outputs": [
    {
     "name": "stdout",
     "output_type": "stream",
     "text": [
      "(3, 6) \n",
      "\n",
      "2 \n",
      "\n",
      "int64 \n",
      "\n",
      "18\n"
     ]
    }
   ],
   "source": [
    "# Attributes of 3-dimensional array\n",
    "print(arr3.shape, '\\n')\n",
    "print(arr3.ndim, '\\n')\n",
    "print(arr3.dtype, '\\n')\n",
    "print(arr3.size)"
   ]
  },
  {
   "cell_type": "code",
   "execution_count": 29,
   "metadata": {},
   "outputs": [],
   "source": [
    "# Import pandas and create a DataFrame out of one\n",
    "# of the arrays you've created\n",
    "import pandas as pd"
   ]
  },
  {
   "cell_type": "code",
   "execution_count": 180,
   "metadata": {},
   "outputs": [
    {
     "name": "stdout",
     "output_type": "stream",
     "text": [
      "   firstCol  secondCol\n",
      "0       1.0        1.0\n",
      "1       1.0        1.0\n",
      "2       1.0        1.0\n",
      "3       1.0        1.0\n",
      "4       1.0        1.0\n",
      "5       1.0        1.0\n",
      "6       1.0        1.0\n",
      "7       1.0        1.0\n",
      "8       1.0        1.0\n",
      "9       1.0        1.0\n"
     ]
    }
   ],
   "source": [
    "# Create an array of shape (10, 2) with only ones\n",
    "arr4 = np.ones((10, 2))\n",
    "df = pd.DataFrame(arr4, columns = ['firstCol','secondCol'])\n",
    "print(df)"
   ]
  },
  {
   "cell_type": "code",
   "execution_count": 134,
   "metadata": {},
   "outputs": [
    {
     "name": "stdout",
     "output_type": "stream",
     "text": [
      "[[[0. 0. 0.]\n",
      "  [0. 0. 0.]]\n",
      "\n",
      " [[0. 0. 0.]\n",
      "  [0. 0. 0.]]\n",
      "\n",
      " [[0. 0. 0.]\n",
      "  [0. 0. 0.]]\n",
      "\n",
      " [[0. 0. 0.]\n",
      "  [0. 0. 0.]]\n",
      "\n",
      " [[0. 0. 0.]\n",
      "  [0. 0. 0.]]\n",
      "\n",
      " [[0. 0. 0.]\n",
      "  [0. 0. 0.]]\n",
      "\n",
      " [[0. 0. 0.]\n",
      "  [0. 0. 0.]]]\n"
     ]
    }
   ],
   "source": [
    "# Create an array of shape (7, 2, 3) of only zeros\n",
    "arr5 = np.zeros((7, 2, 3))\n",
    "print(arr5)"
   ]
  },
  {
   "cell_type": "code",
   "execution_count": 135,
   "metadata": {},
   "outputs": [
    {
     "name": "stdout",
     "output_type": "stream",
     "text": [
      "[  0   1   2   3   4   5   6   7   8   9  10  11  12  13  14  15  16  17\n",
      "  18  19  20  21  22  23  24  25  26  27  28  29  30  31  32  33  34  35\n",
      "  36  37  38  39  40  41  42  43  44  45  46  47  48  49  50  51  52  53\n",
      "  54  55  56  57  58  59  60  61  62  63  64  65  66  67  68  69  70  71\n",
      "  72  73  74  75  76  77  78  79  80  81  82  83  84  85  86  87  88  89\n",
      "  90  91  92  93  94  95  96  97  98  99 100]\n"
     ]
    }
   ],
   "source": [
    "# Create an array within a range of 0 and 100 with step 3\n",
    "arr6 = np.array(range(0, 101))\n",
    "print(arr6)"
   ]
  },
  {
   "cell_type": "code",
   "execution_count": 136,
   "metadata": {},
   "outputs": [
    {
     "name": "stdout",
     "output_type": "stream",
     "text": [
      "[[ 0  7]\n",
      " [ 0 10]\n",
      " [ 0  1]\n",
      " [ 1  5]\n",
      " [ 6  4]\n",
      " [ 0  0]\n",
      " [ 2  1]]\n"
     ]
    }
   ],
   "source": [
    "# Create a random array with numbers between 0 and 10 of size (7, 2) \n",
    "randomArray1 = np.random.randint(0, 11, size=(7, 2))\n",
    "print(randomArray1)"
   ]
  },
  {
   "cell_type": "code",
   "execution_count": 137,
   "metadata": {},
   "outputs": [
    {
     "name": "stdout",
     "output_type": "stream",
     "text": [
      "[[0.53093458 0.44778316 0.55289309 0.59269672 0.08085333]\n",
      " [0.36965446 0.24215994 0.80313976 0.47030063 0.98342314]\n",
      " [0.39882444 0.81643187 0.79834512 0.15071754 0.50819878]]\n"
     ]
    }
   ],
   "source": [
    "# Create a random array of floats between 0 & 1 of shape (3, 5)\n",
    "randomArray2 = np.random.random((3, 5))\n",
    "print(randomArray2)"
   ]
  },
  {
   "cell_type": "code",
   "execution_count": 188,
   "metadata": {},
   "outputs": [
    {
     "name": "stdout",
     "output_type": "stream",
     "text": [
      "[[0.53093458 0.44778316 0.55289309 0.59269672 0.08085333]\n",
      " [0.36965446 0.24215994 0.80313976 0.47030063 0.98342314]\n",
      " [0.39882444 0.81643187 0.79834512 0.15071754 0.50819878]] \n",
      "\n",
      "[[ 6  3 10  7  4  6]\n",
      " [ 9  2  6 10 10  7]\n",
      " [ 4  3  7  7  2  5]\n",
      " [ 4  1  7  5  1  4]]\n"
     ]
    }
   ],
   "source": [
    "# Set the random seed to 42\n",
    "\n",
    "np.random.seed(42)\n",
    "print(randomArray2, '\\n')\n",
    "# Create a random array of numbers between 0 & 10 of size (4, 6)\n",
    "randomArray3 = np.random.randint(0, 11, size=(4, 6))\n",
    "print(randomArray3)\n",
    "\n",
    "# the same each time running the code.\n",
    "# The seed keeep the numbers the same each time you run the code"
   ]
  },
  {
   "cell_type": "markdown",
   "metadata": {},
   "source": [
    "Run the cell above again, what happens?\n",
    "\n",
    "Are the numbers in the array different or the same? Why do think this is?"
   ]
  },
  {
   "cell_type": "code",
   "execution_count": 187,
   "metadata": {},
   "outputs": [
    {
     "name": "stdout",
     "output_type": "stream",
     "text": [
      "[[ 7  1  1  9  9  4  9]\n",
      " [ 3  7  6  8  9  5  1]\n",
      " [ 3 10  8  6  8  9  4]] \n",
      "\n",
      "[ 1  3  4  5  6  7  8  9 10]\n"
     ]
    }
   ],
   "source": [
    "# Create an array of random numbers between 1 & 10 of size (3, 7)\n",
    "# and save it to a variable\n",
    "randomArray4 = np.random.randint(1, 11, size=(3, 7))\n",
    "print(randomArray4, '\\n')\n",
    "\n",
    "# Find the unique numbers in the array you just created\n",
    "uniqueNumbers = np.unique(randomArray4)\n",
    "\n",
    "print(uniqueNumbers)"
   ]
  },
  {
   "cell_type": "code",
   "execution_count": 140,
   "metadata": {},
   "outputs": [
    {
     "name": "stdout",
     "output_type": "stream",
     "text": [
      "1\n"
     ]
    }
   ],
   "source": [
    "# Find the 0'th index of the latest array you created\n",
    "elementAtZeroIndex = randomArray4[0, 0]\n",
    "\n",
    "print(elementAtZeroIndex)"
   ]
  },
  {
   "cell_type": "code",
   "execution_count": 141,
   "metadata": {},
   "outputs": [
    {
     "name": "stdout",
     "output_type": "stream",
     "text": [
      "[[ 1 10  6  9  1 10  3]\n",
      " [ 7  4  9  3  5  3  7]]\n"
     ]
    }
   ],
   "source": [
    "# Get the first 2 rows of latest array you created\n",
    "firstTwoRows = randomArray4[:2, :]\n",
    "print(firstTwoRows)"
   ]
  },
  {
   "cell_type": "code",
   "execution_count": 142,
   "metadata": {},
   "outputs": [
    {
     "name": "stdout",
     "output_type": "stream",
     "text": [
      "[[ 1 10]\n",
      " [ 7  4]]\n"
     ]
    }
   ],
   "source": [
    "# Get the first 2 values of the first 2 rows of the latest array\n",
    "firstTwoValues = randomArray4[:2, :2]\n",
    "print(firstTwoValues)"
   ]
  },
  {
   "cell_type": "code",
   "execution_count": 186,
   "metadata": {},
   "outputs": [
    {
     "name": "stdout",
     "output_type": "stream",
     "text": [
      "Random array = \n",
      " [[ 3  6 10  2  5]\n",
      " [ 1  9  8  4  5]\n",
      " [ 3 10  9  6  8]]\n",
      "\n",
      " Ones array = \n",
      " [[1. 1. 1. 1. 1.]\n",
      " [1. 1. 1. 1. 1.]\n",
      " [1. 1. 1. 1. 1.]]\n"
     ]
    }
   ],
   "source": [
    "# Create a random array of numbers between 0 & 10 and an array of ones\n",
    "# both of size (3, 5), save them both to variables\n",
    "\n",
    "randomArray = np.random.randint(0, 11, size=(3, 5))\n",
    "onesArray = np.ones((3, 5))\n",
    "print('Random array = \\n', randomArray)\n",
    "print('\\n Ones array = \\n', onesArray)"
   ]
  },
  {
   "cell_type": "code",
   "execution_count": 144,
   "metadata": {},
   "outputs": [
    {
     "name": "stdout",
     "output_type": "stream",
     "text": [
      "Result Array = \n",
      " [[10.  9. 10.  5.  2.]\n",
      " [ 4.  7.  8.  3.  1.]\n",
      " [ 4.  2.  8.  4.  2.]]\n"
     ]
    }
   ],
   "source": [
    "# Add the two arrays together\n",
    "resultArray = randomArray + onesArray\n",
    "print('Result Array = \\n', resultArray)"
   ]
  },
  {
   "cell_type": "code",
   "execution_count": 155,
   "metadata": {},
   "outputs": [
    {
     "name": "stdout",
     "output_type": "stream",
     "text": [
      "[[1. 1. 1.]\n",
      " [1. 1. 1.]\n",
      " [1. 1. 1.]\n",
      " [1. 1. 1.]\n",
      " [1. 1. 1.]]\n"
     ]
    }
   ],
   "source": [
    "# Create another array of ones of shape (5, 3)\n",
    "OnesArray2 = np.ones((5, 3))\n",
    "print(OnesArray2)"
   ]
  },
  {
   "cell_type": "code",
   "execution_count": 156,
   "metadata": {},
   "outputs": [
    {
     "name": "stdout",
     "output_type": "stream",
     "text": [
      "[[11. 10. 11.  6.  3.]\n",
      " [ 5.  8.  9.  4.  2.]\n",
      " [ 5.  3.  9.  5.  3.]]\n"
     ]
    }
   ],
   "source": [
    "# Try add the array of ones and the other most recent array together\n",
    "# lastArrayInv = anotherOnesArray ** -1\n",
    "transpose = np.transpose(OnesArray2)\n",
    "RecentTwoArrays = transpose + resultArray\n",
    "print(RecentTwoArrays)\n",
    "# The result array is (3, 5) and the ones array was (5, 3)\n",
    "# both have to be the SAME\n",
    "# so I used the transpose to solve the error"
   ]
  },
  {
   "cell_type": "markdown",
   "metadata": {},
   "source": [
    "When you try the last cell, it produces an error. Why do think this is?\n",
    "\n",
    "How would you fix it?"
   ]
  },
  {
   "cell_type": "code",
   "execution_count": 157,
   "metadata": {},
   "outputs": [
    {
     "name": "stdout",
     "output_type": "stream",
     "text": [
      "[[1. 1. 1.]\n",
      " [1. 1. 1.]\n",
      " [1. 1. 1.]\n",
      " [1. 1. 1.]\n",
      " [1. 1. 1.]]\n"
     ]
    }
   ],
   "source": [
    "# Create another array of ones of shape (3, 5)\n",
    "OnesArray3 = np.ones((5, 3))\n",
    "print(OnesArray3)"
   ]
  },
  {
   "cell_type": "code",
   "execution_count": 158,
   "metadata": {},
   "outputs": [
    {
     "name": "stdout",
     "output_type": "stream",
     "text": [
      "[[10.  9. 10.  5.  2.]\n",
      " [ 4.  7.  8.  3.  1.]\n",
      " [ 4.  2.  8.  4.  2.]]\n"
     ]
    }
   ],
   "source": [
    "# Subtract the new array of ones from the other most recent array\n",
    "recent2 = RecentTwoArrays\n",
    "transpose2 = np.transpose(OnesArray3)\n",
    "recent3 = recent2 - transpose2 \n",
    "print(recent3)"
   ]
  },
  {
   "cell_type": "code",
   "execution_count": 160,
   "metadata": {},
   "outputs": [
    {
     "name": "stdout",
     "output_type": "stream",
     "text": [
      "[[10.  9. 10.  5.  2.]\n",
      " [ 4.  7.  8.  3.  1.]\n",
      " [ 4.  2.  8.  4.  2.]]\n"
     ]
    }
   ],
   "source": [
    "# Multiply the ones array with the latest array\n",
    "Multiplication = transpose2 * recent3\n",
    "print(Multiplication)"
   ]
  },
  {
   "cell_type": "code",
   "execution_count": 161,
   "metadata": {},
   "outputs": [
    {
     "name": "stdout",
     "output_type": "stream",
     "text": [
      "[[100.  81. 100.  25.   4.]\n",
      " [ 16.  49.  64.   9.   1.]\n",
      " [ 16.   4.  64.  16.   4.]]\n"
     ]
    }
   ],
   "source": [
    "# Take the latest array to the power of 2 using '**'\n",
    "power = Multiplication ** 2\n",
    "print(power)"
   ]
  },
  {
   "cell_type": "code",
   "execution_count": 169,
   "metadata": {},
   "outputs": [
    {
     "name": "stdout",
     "output_type": "stream",
     "text": [
      "[[100.  81. 100.  25.   4.]\n",
      " [ 16.  49.  64.   9.   1.]\n",
      " [ 16.   4.  64.  16.   4.]]\n"
     ]
    }
   ],
   "source": [
    "# Do the same thing with np.square()\n",
    "power2 = np.square(Multiplication)\n",
    "print(power2)"
   ]
  },
  {
   "cell_type": "code",
   "execution_count": 170,
   "metadata": {},
   "outputs": [
    {
     "name": "stdout",
     "output_type": "stream",
     "text": [
      "36.86666666666667\n"
     ]
    }
   ],
   "source": [
    "# Find the mean of the latest array using np.mean()\n",
    "mean1 = np.mean(power2)\n",
    "print(mean1)"
   ]
  },
  {
   "cell_type": "code",
   "execution_count": 172,
   "metadata": {},
   "outputs": [
    {
     "name": "stdout",
     "output_type": "stream",
     "text": [
      "100.0\n"
     ]
    }
   ],
   "source": [
    "# Find the maximum of the latest array using np.max()\n",
    "max1 = np.max(power2)\n",
    "print(max1)"
   ]
  },
  {
   "cell_type": "code",
   "execution_count": 173,
   "metadata": {},
   "outputs": [
    {
     "name": "stdout",
     "output_type": "stream",
     "text": [
      "1.0\n"
     ]
    }
   ],
   "source": [
    "# Find the minimum of the latest array using np.min()\n",
    "min1 = np.min(power2)\n",
    "print(min1)"
   ]
  },
  {
   "cell_type": "code",
   "execution_count": 174,
   "metadata": {},
   "outputs": [
    {
     "name": "stdout",
     "output_type": "stream",
     "text": [
      "34.91869922485022\n"
     ]
    }
   ],
   "source": [
    "# Find the standard deviation of the latest array\n",
    "standarDev = np.std(power2)\n",
    "print(standarDev)"
   ]
  },
  {
   "cell_type": "code",
   "execution_count": 175,
   "metadata": {},
   "outputs": [
    {
     "name": "stdout",
     "output_type": "stream",
     "text": [
      "1219.3155555555554\n"
     ]
    }
   ],
   "source": [
    "# Find the variance of the latest array\n",
    "variance = np.var(power2)\n",
    "\n",
    "print(variance)"
   ]
  },
  {
   "cell_type": "code",
   "execution_count": 178,
   "metadata": {},
   "outputs": [
    {
     "name": "stdout",
     "output_type": "stream",
     "text": [
      "[[[100.]\n",
      "  [ 81.]\n",
      "  [100.]\n",
      "  [ 25.]\n",
      "  [  4.]]\n",
      "\n",
      " [[ 16.]\n",
      "  [ 49.]\n",
      "  [ 64.]\n",
      "  [  9.]\n",
      "  [  1.]]\n",
      "\n",
      " [[ 16.]\n",
      "  [  4.]\n",
      "  [ 64.]\n",
      "  [ 16.]\n",
      "  [  4.]]]\n"
     ]
    }
   ],
   "source": [
    "# Reshape the latest array to (3, 5, 1)\n",
    "reshapedArray = power2.reshape(3, 5, 1)\n",
    "print(reshapedArray)"
   ]
  },
  {
   "cell_type": "code",
   "execution_count": 179,
   "metadata": {},
   "outputs": [
    {
     "name": "stdout",
     "output_type": "stream",
     "text": [
      "[[[100.  16.  16.]\n",
      "  [ 81.  49.   4.]\n",
      "  [100.  64.  64.]\n",
      "  [ 25.   9.  16.]\n",
      "  [  4.   1.   4.]]]\n"
     ]
    }
   ],
   "source": [
    "# Transpose the latest array\n",
    "transpose3 = np.transpose(reshapedArray)\n",
    "print(transpose3)\n",
    "# the raw becomes column and vice vesrsa"
   ]
  },
  {
   "cell_type": "markdown",
   "metadata": {},
   "source": [
    "What does the transpose do?"
   ]
  },
  {
   "cell_type": "code",
   "execution_count": 181,
   "metadata": {},
   "outputs": [
    {
     "name": "stdout",
     "output_type": "stream",
     "text": [
      "[[5 5 9]\n",
      " [3 5 1]\n",
      " [9 1 9]]\n",
      "[[3 7]\n",
      " [6 8]\n",
      " [7 4]]\n"
     ]
    }
   ],
   "source": [
    "# Create two arrays of random integers between 0 to 10\n",
    "# one of size (3, 3) the other of size (3, 2)\n",
    "array1 = np.random.randint(0, 11, size=(3, 3))\n",
    "array2 = np.random.randint(0, 11, size=(3, 2))\n",
    "print(array1, '\\n')\n",
    "print(array2)"
   ]
  },
  {
   "cell_type": "code",
   "execution_count": 182,
   "metadata": {},
   "outputs": [
    {
     "name": "stdout",
     "output_type": "stream",
     "text": [
      "[[108 111]\n",
      " [ 46  65]\n",
      " [ 96 107]]\n"
     ]
    }
   ],
   "source": [
    "# Perform a dot product on the two newest arrays you created\n",
    "dotProduct = np.dot(array1, array2)\n",
    "print(dotProduct)"
   ]
  },
  {
   "cell_type": "code",
   "execution_count": 196,
   "metadata": {
    "scrolled": true
   },
   "outputs": [
    {
     "name": "stdout",
     "output_type": "stream",
     "text": [
      "[[8 9 4]\n",
      " [1 3 6]\n",
      " [7 2 0]\n",
      " [3 1 7]] \n",
      "\n",
      "[[3 1 5]\n",
      " [5 9 3]\n",
      " [5 1 9]\n",
      " [1 9 3]]\n"
     ]
    }
   ],
   "source": [
    "# Create two arrays of random integers between 0 to 10\n",
    "# both of size (4, 3)\n",
    "array3 = np.random.randint(0, 11, size=(4, 3))\n",
    "array4 = np.random.randint(0, 11, size=(4, 3))\n",
    "print(array3, '\\n')\n",
    "print(array4)"
   ]
  },
  {
   "cell_type": "code",
   "execution_count": 198,
   "metadata": {},
   "outputs": [
    {
     "name": "stdout",
     "output_type": "stream",
     "text": [
      "173\n"
     ]
    }
   ],
   "source": [
    "# Perform a dot product on the two newest arrays you created\n",
    "dotProduct2 = np.dot(array3.flatten(), array4.flatten())\n",
    "print(dotProduct2)\n",
    "# I searched and found that the flatten() solve the problem \n",
    "# return a copy of a given array in such a way that it is collapsed into one dimension"
   ]
  },
  {
   "cell_type": "markdown",
   "metadata": {},
   "source": [
    "It doesn't work. How would you fix it?"
   ]
  },
  {
   "cell_type": "code",
   "execution_count": 202,
   "metadata": {},
   "outputs": [
    {
     "name": "stdout",
     "output_type": "stream",
     "text": [
      "[[ 67  51 115]\n",
      " [ 53  47  75]\n",
      " [ 49 121  59]] \n",
      "\n",
      "[[123  92  59]\n",
      " [ 92  95  61]\n",
      " [ 59  61 101]]\n"
     ]
    }
   ],
   "source": [
    "# Take the latest two arrays, perform a transpose on one of them and then perform \n",
    "# a dot product on them both\n",
    "transaArray3 = np.transpose(array3)\n",
    "dotProduct3 = np.dot(transaArray3, array4)\n",
    "dotProduct4 = np.dot(transaArray3, array3)\n",
    "print(dotProduct3, '\\n')\n",
    "print(dotProduct4)"
   ]
  },
  {
   "cell_type": "markdown",
   "metadata": {},
   "source": [
    "Notice how performing a transpose allows the dot product to happen.\n",
    "\n",
    "Why is this?\n",
    "\n",
    "Checking out the documentation on [`np.dot()`](https://docs.scipy.org/doc/numpy/reference/generated/numpy.dot.html) may help, as well as reading [Math is Fun's guide on the dot product](https://www.mathsisfun.com/algebra/vectors-dot-product.html).\n",
    "\n",
    "Let's now compare arrays."
   ]
  },
  {
   "cell_type": "code",
   "execution_count": 219,
   "metadata": {},
   "outputs": [
    {
     "name": "stdout",
     "output_type": "stream",
     "text": [
      "[[ 8  2  6]\n",
      " [ 5  7 10]\n",
      " [ 8  4  0]] \n",
      "\n",
      "[[ 2  9  7]\n",
      " [10  5  7]\n",
      " [ 8  3  0]]\n"
     ]
    }
   ],
   "source": [
    "# Create two arrays of random integers between 0 & 10 of the same shape\n",
    "# and save them to variables\n",
    "randArray1 = np.random.randint(0, 11, size=(3, 3))\n",
    "randArray2 = np.random.randint(0, 11, size=(3, 3))\n",
    "print(randArray1, '\\n')\n",
    "print(randArray2)"
   ]
  },
  {
   "cell_type": "code",
   "execution_count": 208,
   "metadata": {},
   "outputs": [
    {
     "name": "stdout",
     "output_type": "stream",
     "text": [
      "[[False  True  True]\n",
      " [ True  True  True]\n",
      " [ True False  True]]\n"
     ]
    }
   ],
   "source": [
    "# Compare the two arrays with '>'\n",
    "comparison = randArray1 > randArray2\n",
    "print(comparison)\n",
    "# it compares if the result true or false not the value itself "
   ]
  },
  {
   "cell_type": "markdown",
   "metadata": {},
   "source": [
    "What happens when you compare the arrays with `>`?"
   ]
  },
  {
   "cell_type": "code",
   "execution_count": 206,
   "metadata": {},
   "outputs": [
    {
     "name": "stdout",
     "output_type": "stream",
     "text": [
      "[[ True  True False]\n",
      " [False False False]\n",
      " [False False  True]]\n"
     ]
    }
   ],
   "source": [
    "# Compare the two arrays with '>='\n",
    "comparison2 = randArray1 >= randArray2\n",
    "print(comparison2)"
   ]
  },
  {
   "cell_type": "code",
   "execution_count": 211,
   "metadata": {},
   "outputs": [
    {
     "name": "stdout",
     "output_type": "stream",
     "text": [
      "[[False  True  True]\n",
      " [ True  True False]\n",
      " [False False False]]\n"
     ]
    }
   ],
   "source": [
    "# Find which elements of the first array are greater than 7\n",
    "greaterThan7 = randArray1 > 7\n",
    "print(greaterThan7)"
   ]
  },
  {
   "cell_type": "code",
   "execution_count": 212,
   "metadata": {},
   "outputs": [
    {
     "name": "stdout",
     "output_type": "stream",
     "text": [
      "[[False False False]\n",
      " [False False False]\n",
      " [ True False False]]\n"
     ]
    }
   ],
   "source": [
    "# Which parts of each array are equal? (try using '==')\n",
    "equalParts = randArray1 == randArray2\n",
    "print(equalParts)"
   ]
  },
  {
   "cell_type": "code",
   "execution_count": 43,
   "metadata": {},
   "outputs": [],
   "source": [
    "# Sort one of the arrays you just created in ascending order\n"
   ]
  },
  {
   "cell_type": "code",
   "execution_count": 213,
   "metadata": {},
   "outputs": [
    {
     "name": "stdout",
     "output_type": "stream",
     "text": [
      "[[ 0  2  3]\n",
      " [ 6  6  8]\n",
      " [ 9  9 10]]\n"
     ]
    }
   ],
   "source": [
    "# Sort the indexes of one of the arrays you just created\n",
    "sortedArray = np.sort(randArray1, axis=None)\n",
    "sortedArray = sortedArray.reshape(randArray1.shape)\n",
    "print(sortedArray)"
   ]
  },
  {
   "cell_type": "code",
   "execution_count": 216,
   "metadata": {},
   "outputs": [
    {
     "name": "stdout",
     "output_type": "stream",
     "text": [
      "7\n"
     ]
    }
   ],
   "source": [
    "# Find the index with the maximum value in one of the arrays you've created\n",
    "maxIndex = np.argmax(randArray1)\n",
    "# max_index_row = max_index // randArray1.shape[1]  # row index\n",
    "# max_index_col = max_index % randArray1.shape[1]   # column index\n",
    "print(maxIndex)"
   ]
  },
  {
   "cell_type": "code",
   "execution_count": 217,
   "metadata": {},
   "outputs": [
    {
     "name": "stdout",
     "output_type": "stream",
     "text": [
      "1\n"
     ]
    }
   ],
   "source": [
    "# Find the index with the minimum value in one of the arrays you've created\n",
    "minIndex = np.argmin(randArray1)\n",
    "print(minIndex)"
   ]
  },
  {
   "cell_type": "code",
   "execution_count": 220,
   "metadata": {},
   "outputs": [
    {
     "name": "stdout",
     "output_type": "stream",
     "text": [
      "[0 2 0]\n"
     ]
    }
   ],
   "source": [
    "# Find the indexes with the maximum values down the 1st axis (axis=1)\n",
    "# of one of the arrays you created\n",
    "maxIndices = np.argmax(randArray1, axis=1)\n",
    "print(maxIndices)"
   ]
  },
  {
   "cell_type": "code",
   "execution_count": 221,
   "metadata": {},
   "outputs": [
    {
     "name": "stdout",
     "output_type": "stream",
     "text": [
      "[1 0 2]\n"
     ]
    }
   ],
   "source": [
    "# Find the indexes with the minimum values across the 0th axis (axis=0)\n",
    "# of one of the arrays you created\n",
    "minIndices = np.argmin(randArray1, axis=1)\n",
    "print(minIndices)"
   ]
  },
  {
   "cell_type": "code",
   "execution_count": 222,
   "metadata": {},
   "outputs": [
    {
     "name": "stdout",
     "output_type": "stream",
     "text": [
      "[-0.01548334 -0.02737645  0.81787351 -1.05460447 -0.75832712  0.45741565\n",
      " -0.06437805  0.34490234 -0.08008734 -0.24138013]\n"
     ]
    }
   ],
   "source": [
    "# Create an array of normally distributed random numbers\n",
    "mean = 0\n",
    "stdDev = 1\n",
    "arraySize = 10\n",
    "randomArray = np.random.normal(mean, stdDev, arraySize)\n",
    "print(randomArray)"
   ]
  },
  {
   "cell_type": "code",
   "execution_count": 223,
   "metadata": {},
   "outputs": [
    {
     "name": "stdout",
     "output_type": "stream",
     "text": [
      "[  1.  12.  23.  34.  45.  56.  67.  78.  89. 100.]\n"
     ]
    }
   ],
   "source": [
    "# Create an array with 10 evenly spaced numbers between 1 and 100\n",
    "numbers = np.linspace(1, 100, 10)\n",
    "print(numbers)"
   ]
  },
  {
   "cell_type": "markdown",
   "metadata": {},
   "source": [
    "## Extensions\n",
    "\n",
    "For more exercises, check out the [NumPy quickstart tutorial](https://numpy.org/doc/stable/user/quickstart.html). A good practice would be to read through it and for the parts you find interesting, add them into the end of this notebook.\n",
    "\n",
    "Pay particular attention to the section on broadcasting. And most importantly, get hands-on with the code as much as possible. If in dobut, run the code, see what it does.\n",
    "\n",
    "The next place you could go is the [Stack Overflow page for the top questions and answers for NumPy](https://stackoverflow.com/questions/tagged/numpy?sort=MostVotes&edited=true). Often, you'll find some of the most common and useful NumPy functions here. Don't forget to play around with the filters! You'll likely find something helpful here.\n",
    "\n",
    "Finally, as always, remember, the best way to learn something new is to try it. And try it relentlessly. If you get interested in some kind of NumPy function, asking yourself, \"I wonder if NumPy could do that?\", go and find out."
   ]
  }
 ],
 "metadata": {
  "kernelspec": {
   "display_name": "Python 3 (ipykernel)",
   "language": "python",
   "name": "python3"
  },
  "language_info": {
   "codemirror_mode": {
    "name": "ipython",
    "version": 3
   },
   "file_extension": ".py",
   "mimetype": "text/x-python",
   "name": "python",
   "nbconvert_exporter": "python",
   "pygments_lexer": "ipython3",
   "version": "3.11.5"
  }
 },
 "nbformat": 4,
 "nbformat_minor": 2
}
