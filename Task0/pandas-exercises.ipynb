{
 "cells": [
  {
   "cell_type": "markdown",
   "metadata": {},
   "source": [
    "# Pandas Practice\n",
    "\n",
    "This notebook is dedicated to practicing different tasks with pandas. The solutions are available,  however, you should always try to figure them out yourself first.\n",
    "\n",
    "It should be noted there may be more than one different way to answer a question or complete an exercise.\n",
    "\n",
    "Different tasks will be detailed by comments or text.\n",
    "\n",
    "For further reference and resources, it's advised to check out the [pandas documentation](https://pandas.pydata.org/pandas-docs/stable/)."
   ]
  },
  {
   "cell_type": "code",
   "execution_count": 3,
   "metadata": {},
   "outputs": [],
   "source": [
    "# Import pandas\n",
    "import pandas as pd"
   ]
  },
  {
   "cell_type": "code",
   "execution_count": 4,
   "metadata": {},
   "outputs": [
    {
     "name": "stdout",
     "output_type": "stream",
     "text": [
      "0      red\n",
      "1    green\n",
      "2     blue\n",
      "dtype: object\n"
     ]
    }
   ],
   "source": [
    "# Create a series of three different colours\n",
    "colors = ['red', 'green', 'blue']\n",
    "colorSeries = pd.Series(colors)\n",
    "print(colorSeries)"
   ]
  },
  {
   "cell_type": "code",
   "execution_count": 5,
   "metadata": {},
   "outputs": [
    {
     "name": "stdout",
     "output_type": "stream",
     "text": [
      "0      black\n",
      "1     White \n",
      "2    Yellow \n",
      "dtype: object\n"
     ]
    }
   ],
   "source": [
    "# View the series of different colours\n",
    "colors2 = ['black', 'White ', 'Yellow ']\n",
    "colorSeries2 = pd.Series(colors2)\n",
    "print(colorSeries2)"
   ]
  },
  {
   "cell_type": "code",
   "execution_count": 6,
   "metadata": {},
   "outputs": [
    {
     "name": "stdout",
     "output_type": "stream",
     "text": [
      "0    Toyota\n",
      "1     Honda\n",
      "2      Ford\n",
      "dtype: object\n"
     ]
    }
   ],
   "source": [
    "# Create a series of three different car types and view it\n",
    "carTypes = pd.Series(['Toyota', 'Honda', 'Ford'])\n",
    "print(carTypes)"
   ]
  },
  {
   "cell_type": "code",
   "execution_count": 7,
   "metadata": {},
   "outputs": [
    {
     "name": "stdout",
     "output_type": "stream",
     "text": [
      "      Car  Color\n",
      "0  Toyota    red\n",
      "1   Honda  green\n",
      "2    Ford   blue\n"
     ]
    }
   ],
   "source": [
    "# Combine the Series of cars and colours into a DataFrame\n",
    "df = pd.DataFrame({'Car': carTypes, 'Color': colors})\n",
    "print(df)\n"
   ]
  },
  {
   "cell_type": "code",
   "execution_count": 8,
   "metadata": {},
   "outputs": [
    {
     "name": "stdout",
     "output_type": "stream",
     "text": [
      "     Make Colour  Odometer (KM)  Doors       Price\n",
      "0  Toyota  White         150043      4   $4,000.00\n",
      "1   Honda    Red          87899      4   $5,000.00\n",
      "2  Toyota   Blue          32549      3   $7,000.00\n",
      "3     BMW  Black          11179      5  $22,000.00\n",
      "4  Nissan  White         213095      4   $3,500.00\n",
      "5  Toyota  Green          99213      4   $4,500.00\n",
      "6   Honda   Blue          45698      4   $7,500.00\n",
      "7   Honda   Blue          54738      4   $7,000.00\n",
      "8  Toyota  White          60000      4   $6,250.00\n",
      "9  Nissan  White          31600      4   $9,700.00\n"
     ]
    }
   ],
   "source": [
    "# Import \"../data/car-sales.csv\" and turn it into a DataFrame\n",
    "df = pd.read_csv(r\"/Users/rawanghanemhmx/Desktop/Task0/data/car-sales.csv\")\n",
    "print(df)"
   ]
  },
  {
   "cell_type": "code",
   "execution_count": 9,
   "metadata": {},
   "outputs": [],
   "source": [
    "# Export the DataFrame you created to a .csv file\n",
    "df.to_csv('/Users/rawanghanemhmx/Desktop/Task0/data/new.csv', index=False)\n"
   ]
  },
  {
   "cell_type": "code",
   "execution_count": 10,
   "metadata": {},
   "outputs": [
    {
     "name": "stdout",
     "output_type": "stream",
     "text": [
      "Make             object\n",
      "Colour           object\n",
      "Odometer (KM)     int64\n",
      "Doors             int64\n",
      "Price            object\n",
      "dtype: object\n"
     ]
    }
   ],
   "source": [
    "# Find the different datatypes of the car data DataFrame\n",
    "print(df.dtypes)"
   ]
  },
  {
   "cell_type": "code",
   "execution_count": 11,
   "metadata": {},
   "outputs": [
    {
     "name": "stdout",
     "output_type": "stream",
     "text": [
      "       Odometer (KM)      Doors\n",
      "count      10.000000  10.000000\n",
      "mean    78601.400000   4.000000\n",
      "std     61983.471735   0.471405\n",
      "min     11179.000000   3.000000\n",
      "25%     35836.250000   4.000000\n",
      "50%     57369.000000   4.000000\n",
      "75%     96384.500000   4.000000\n",
      "max    213095.000000   5.000000\n"
     ]
    }
   ],
   "source": [
    "# Describe your current car sales DataFrame using describe()\n",
    "Description = df.describe()\n",
    "print(Description)"
   ]
  },
  {
   "cell_type": "code",
   "execution_count": 12,
   "metadata": {},
   "outputs": [
    {
     "name": "stdout",
     "output_type": "stream",
     "text": [
      "<class 'pandas.core.frame.DataFrame'>\n",
      "RangeIndex: 10 entries, 0 to 9\n",
      "Data columns (total 5 columns):\n",
      " #   Column         Non-Null Count  Dtype \n",
      "---  ------         --------------  ----- \n",
      " 0   Make           10 non-null     object\n",
      " 1   Colour         10 non-null     object\n",
      " 2   Odometer (KM)  10 non-null     int64 \n",
      " 3   Doors          10 non-null     int64 \n",
      " 4   Price          10 non-null     object\n",
      "dtypes: int64(2), object(3)\n",
      "memory usage: 532.0+ bytes\n",
      "None\n"
     ]
    }
   ],
   "source": [
    "# Get information about your DataFrame using info()\n",
    "carSales = df\n",
    "Information = carSales.info()\n",
    "print(Information)\n",
    "\n",
    "# it shows the number of rows and columns\n",
    "# the column names and their data types.\n",
    "# the number of non-null values in each column.\n",
    "# the memory usage of the DataFrame."
   ]
  },
  {
   "cell_type": "markdown",
   "metadata": {},
   "source": [
    "What does it show you?"
   ]
  },
  {
   "cell_type": "code",
   "execution_count": 13,
   "metadata": {},
   "outputs": [
    {
     "name": "stdout",
     "output_type": "stream",
     "text": [
      "Mean: 30.0\n"
     ]
    }
   ],
   "source": [
    "# Create a Series of different numbers and find the mean of them\n",
    "numbers = pd.Series([10, 20, 30, 40, 50])\n",
    "mean = numbers.mean()\n",
    "print(\"Mean:\", mean)\n"
   ]
  },
  {
   "cell_type": "code",
   "execution_count": 14,
   "metadata": {},
   "outputs": [
    {
     "name": "stdout",
     "output_type": "stream",
     "text": [
      "Sum: 150\n"
     ]
    }
   ],
   "source": [
    "# Create a Series of different numbers and find the sum of them\n",
    "sum = numbers.sum()\n",
    "print(\"Sum:\", sum)"
   ]
  },
  {
   "cell_type": "code",
   "execution_count": 15,
   "metadata": {},
   "outputs": [
    {
     "name": "stdout",
     "output_type": "stream",
     "text": [
      "['Make', 'Colour', 'Odometer (KM)', 'Doors', 'Price']\n"
     ]
    }
   ],
   "source": [
    "# List out all the column names of the car sales DataFrame\n",
    "columnNames = carSales.columns.tolist()\n",
    "print(columnNames)"
   ]
  },
  {
   "cell_type": "code",
   "execution_count": 16,
   "metadata": {},
   "outputs": [
    {
     "name": "stdout",
     "output_type": "stream",
     "text": [
      "Length of car sales DataFrame: 10\n"
     ]
    }
   ],
   "source": [
    "# Find the length of the car sales DataFrame\n",
    "length = len(carSales)\n",
    "\n",
    "print(\"Length of car sales DataFrame:\", length)"
   ]
  },
  {
   "cell_type": "code",
   "execution_count": 17,
   "metadata": {},
   "outputs": [
    {
     "name": "stdout",
     "output_type": "stream",
     "text": [
      "First 5 rows of car sales DataFrame:      Make Colour  Odometer (KM)  Doors       Price\n",
      "0  Toyota  White         150043      4   $4,000.00\n",
      "1   Honda    Red          87899      4   $5,000.00\n",
      "2  Toyota   Blue          32549      3   $7,000.00\n",
      "3     BMW  Black          11179      5  $22,000.00\n",
      "4  Nissan  White         213095      4   $3,500.00\n"
     ]
    }
   ],
   "source": [
    "# Show the first 5 rows of the car sales DataFrame\n",
    "firstFiveRows = carSales.head(5)\n",
    "print(\"First 5 rows of car sales DataFrame:\", firstFiveRows)"
   ]
  },
  {
   "cell_type": "code",
   "execution_count": 18,
   "metadata": {},
   "outputs": [
    {
     "name": "stdout",
     "output_type": "stream",
     "text": [
      "First 7 rows of car sales DataFrame:      Make Colour  Odometer (KM)  Doors       Price\n",
      "0  Toyota  White         150043      4   $4,000.00\n",
      "1   Honda    Red          87899      4   $5,000.00\n",
      "2  Toyota   Blue          32549      3   $7,000.00\n",
      "3     BMW  Black          11179      5  $22,000.00\n",
      "4  Nissan  White         213095      4   $3,500.00\n",
      "5  Toyota  Green          99213      4   $4,500.00\n",
      "6   Honda   Blue          45698      4   $7,500.00\n"
     ]
    }
   ],
   "source": [
    "# Show the first 7 rows of the car sales DataFrame\n",
    "firstSevenRows = carSales.head(7)\n",
    "print(\"First 7 rows of car sales DataFrame:\", firstSevenRows)"
   ]
  },
  {
   "cell_type": "code",
   "execution_count": 19,
   "metadata": {},
   "outputs": [
    {
     "name": "stdout",
     "output_type": "stream",
     "text": [
      "bottom 5 rows of car sales DataFrame:      Make Colour  Odometer (KM)  Doors      Price\n",
      "5  Toyota  Green          99213      4  $4,500.00\n",
      "6   Honda   Blue          45698      4  $7,500.00\n",
      "7   Honda   Blue          54738      4  $7,000.00\n",
      "8  Toyota  White          60000      4  $6,250.00\n",
      "9  Nissan  White          31600      4  $9,700.00\n"
     ]
    }
   ],
   "source": [
    "# Show the bottom 5 rows of the car sales DataFrame\n",
    "bottomFiveRows = carSales.tail(5)\n",
    "print(\"bottom 5 rows of car sales DataFrame:\", bottomFiveRows)"
   ]
  },
  {
   "cell_type": "code",
   "execution_count": 20,
   "metadata": {},
   "outputs": [
    {
     "name": "stdout",
     "output_type": "stream",
     "text": [
      "Make                    BMW\n",
      "Colour                Black\n",
      "Odometer (KM)         11179\n",
      "Doors                     5\n",
      "Price            $22,000.00\n",
      "Name: 3, dtype: object\n"
     ]
    }
   ],
   "source": [
    "# Use .loc to select the row at index 3 of the car sales DataFrame\n",
    "row3 = carSales.loc[3]\n",
    "print(row3)"
   ]
  },
  {
   "cell_type": "code",
   "execution_count": 21,
   "metadata": {},
   "outputs": [
    {
     "name": "stdout",
     "output_type": "stream",
     "text": [
      "Make                    BMW\n",
      "Colour                Black\n",
      "Odometer (KM)         11179\n",
      "Doors                     5\n",
      "Price            $22,000.00\n",
      "Name: 3, dtype: object\n"
     ]
    }
   ],
   "source": [
    "# Use .iloc to select the row at position 3 of the car sales DataFrame\n",
    "row3 = carSales.iloc[3]\n",
    "print(row3)\n",
    "# the index labels are non-sequential\n",
    "# integer-based and uses the positional index \n",
    "# regardless of the index label"
   ]
  },
  {
   "cell_type": "markdown",
   "metadata": {},
   "source": [
    "Notice how they're the same? Why do you think this is? \n",
    "\n",
    "Check the pandas documentation for [.loc](https://pandas.pydata.org/pandas-docs/stable/reference/api/pandas.DataFrame.loc.html) and [.iloc](https://pandas.pydata.org/pandas-docs/stable/reference/api/pandas.DataFrame.iloc.html). Think about a different situation each could be used for and try them out."
   ]
  },
  {
   "cell_type": "code",
   "execution_count": 22,
   "metadata": {},
   "outputs": [
    {
     "name": "stdout",
     "output_type": "stream",
     "text": [
      "0    150043\n",
      "1     87899\n",
      "2     32549\n",
      "3     11179\n",
      "4    213095\n",
      "5     99213\n",
      "6     45698\n",
      "7     54738\n",
      "8     60000\n",
      "9     31600\n",
      "Name: Odometer (KM), dtype: int64\n"
     ]
    }
   ],
   "source": [
    "# Select the \"Odometer (KM)\" column from the car sales DataFrame\n",
    "odometerColumn = carSales['Odometer (KM)']\n",
    "print(odometerColumn)"
   ]
  },
  {
   "cell_type": "code",
   "execution_count": 23,
   "metadata": {},
   "outputs": [
    {
     "name": "stdout",
     "output_type": "stream",
     "text": [
      "78601.4\n"
     ]
    }
   ],
   "source": [
    "# Find the mean of the \"Odometer (KM)\" column in the car sales DataFrame\n",
    "meanOdometer = carSales[\"Odometer (KM)\"].mean()\n",
    "print(meanOdometer)"
   ]
  },
  {
   "cell_type": "code",
   "execution_count": 24,
   "metadata": {},
   "outputs": [
    {
     "name": "stdout",
     "output_type": "stream",
     "text": [
      "     Make Colour  Odometer (KM)  Doors      Price\n",
      "0  Toyota  White         150043      4  $4,000.00\n",
      "4  Nissan  White         213095      4  $3,500.00\n"
     ]
    }
   ],
   "source": [
    "# Select the rows with over 100,000 kilometers on the Odometer\n",
    "rowsOver = carSales.loc[carSales['Odometer (KM)'] > 100000]\n",
    "print(rowsOver)"
   ]
  },
  {
   "cell_type": "code",
   "execution_count": 25,
   "metadata": {},
   "outputs": [
    {
     "name": "stdout",
     "output_type": "stream",
     "text": [
      "Doors   3  4  5\n",
      "Make           \n",
      "BMW     0  0  1\n",
      "Honda   0  3  0\n",
      "Nissan  0  2  0\n",
      "Toyota  1  3  0\n"
     ]
    }
   ],
   "source": [
    "# Create a crosstab of the Make and Doors columns\n",
    "crosstabCarSales = pd.crosstab(carSales['Make'], carSales['Doors'])\n",
    "\n",
    "print(crosstabCarSales)"
   ]
  },
  {
   "cell_type": "code",
   "execution_count": 37,
   "metadata": {},
   "outputs": [
    {
     "name": "stdout",
     "output_type": "stream",
     "text": [
      "        Odometer (KM)  Doors    Price\n",
      "Make                                 \n",
      "BMW      11179.000000   5.00  22000.0\n",
      "Honda    62778.333333   4.00   6500.0\n",
      "Nissan  122347.500000   4.00   6600.0\n",
      "Toyota   85451.250000   3.75   5437.5\n"
     ]
    }
   ],
   "source": [
    "# Group columns of the car sales DataFrame by the Make column and find the average\n",
    "carSales['Price'] = carSales['Price'].str.replace(',', '').str.replace('$', '')\n",
    "carSales['Price'] = pd.to_numeric(carSales['Price'])\n",
    "groupedCarSales = carSales.groupby('Make').mean(['Price'])\n",
    "print(groupedCarSales)"
   ]
  },
  {
   "cell_type": "code",
   "execution_count": 27,
   "metadata": {},
   "outputs": [
    {
     "data": {
      "image/png": "[encoded data removed]",
      "text/plain": [
       "<Figure size 640x480 with 1 Axes>"
      ]
     },
     "metadata": {},
     "output_type": "display_data"
    }
   ],
   "source": [
    "# Import Matplotlib and create a plot of the Odometer column\n",
    "# Don't forget to use %matplotlib inline\n",
    "import matplotlib.pyplot as plt\n",
    "%matplotlib inline\n",
    "\n",
    "plt.plot(carSales[\"Odometer (KM)\"])\n",
    "plt.xlabel(\"Index\")\n",
    "plt.ylabel(\"Odometer (KM)\")\n",
    "plt.title(\"Odometer Plot\")\n",
    "plt.show()"
   ]
  },
  {
   "cell_type": "code",
   "execution_count": 28,
   "metadata": {},
   "outputs": [
    {
     "data": {
      "image/png": "[encoded data removed]",
      "text/plain": [
       "<Figure size 640x480 with 1 Axes>"
      ]
     },
     "metadata": {},
     "output_type": "display_data"
    }
   ],
   "source": [
    "# Create a histogram of the Odometer column using hist()\n",
    "plt.hist(df['Odometer (KM)'])\n",
    "plt.xlabel('Odometer (KM)')\n",
    "plt.ylabel('Frequency')\n",
    "plt.title('Histogram of Odometer')\n",
    "plt.show()"
   ]
  },
  {
   "cell_type": "code",
   "execution_count": 38,
   "metadata": {},
   "outputs": [
    {
     "data": {
      "image/png": "[encoded data removed]",
      "text/plain": [
       "<Figure size 640x480 with 1 Axes>"
      ]
     },
     "metadata": {},
     "output_type": "display_data"
    }
   ],
   "source": [
    "# Try to plot the Price column using plot()\n",
    "\n",
    "carSales['Price'] = pd.to_numeric(carSales['Price'])\n",
    "carSales['Price'].plot()\n",
    "plt.xlabel('Price')\n",
    "plt.ylabel('Odometer')\n",
    "plt.title('Car Sales')\n",
    "plt.show()"
   ]
  },
  {
   "cell_type": "markdown",
   "metadata": {},
   "source": [
    "Why didn't it work? Can you think of a solution?\n",
    "\n",
    "You might want to search for \"how to convert a pandas string column to numbers\".\n",
    "\n",
    "And if you're still stuck, check out this [Stack Overflow question and answer on turning a price column into integers](https://stackoverflow.com/questions/44469313/price-column-object-to-int-in-pandas).\n",
    "\n",
    "See how you can provide the example code there to the problem here."
   ]
  },
  {
   "cell_type": "code",
   "execution_count": 188,
   "metadata": {},
   "outputs": [
    {
     "name": "stdout",
     "output_type": "stream",
     "text": [
      "     Make Colour  Odometer (KM)  Doors    Price\n",
      "0  Toyota  White         150043      4   4000.0\n",
      "1   Honda    Red          87899      4   5000.0\n",
      "2  Toyota   Blue          32549      3   7000.0\n",
      "3     BMW  Black          11179      5  22000.0\n",
      "4  Nissan  White         213095      4   3500.0\n",
      "5  Toyota  Green          99213      4   4500.0\n",
      "6   Honda   Blue          45698      4   7500.0\n",
      "7   Honda   Blue          54738      4   7000.0\n",
      "8  Toyota  White          60000      4   6250.0\n",
      "9  Nissan  White          31600      4   9700.0\n"
     ]
    }
   ],
   "source": [
    "# Remove the punctuation from price column\n",
    "carSales['Price'] = carSales['Price'].astype(str)\n",
    "carSales['Price'] = carSales['Price'].str.replace('[^\\d.]', '')\n",
    "carSales['Price'] = pd.to_numeric(carSales['Price'])\n",
    "print(carSales)\n"
   ]
  },
  {
   "cell_type": "code",
   "execution_count": 189,
   "metadata": {},
   "outputs": [
    {
     "name": "stdout",
     "output_type": "stream",
     "text": [
      "0     4000.0\n",
      "1     5000.0\n",
      "2     7000.0\n",
      "3    22000.0\n",
      "4     3500.0\n",
      "5     4500.0\n",
      "6     7500.0\n",
      "7     7000.0\n",
      "8     6250.0\n",
      "9     9700.0\n",
      "Name: Price, dtype: float64\n"
     ]
    }
   ],
   "source": [
    "# Check the changes to the price column\n",
    "print(carSales['Price'])"
   ]
  },
  {
   "cell_type": "code",
   "execution_count": 199,
   "metadata": {},
   "outputs": [
    {
     "name": "stdout",
     "output_type": "stream",
     "text": [
      "     Make Colour  Odometer (KM)  Doors    Price\n",
      "0  Toyota  White         150043      4   4000.0\n",
      "1   Honda    Red          87899      4   5000.0\n",
      "2  Toyota   Blue          32549      3   7000.0\n",
      "3     BMW  Black          11179      5  22000.0\n",
      "4  Nissan  White         213095      4   3500.0\n",
      "5  Toyota  Green          99213      4   4500.0\n",
      "6   Honda   Blue          45698      4   7500.0\n",
      "7   Honda   Blue          54738      4   7000.0\n",
      "8  Toyota  White          60000      4   6250.0\n",
      "9  Nissan  White          31600      4   9700.0\n"
     ]
    }
   ],
   "source": [
    "# Remove the two extra zeros at the end of the price column\n",
    "carSales['Price'] = carSales['Price'].astype(str)\n",
    "carSales['Price'] = carSales['Price'].str.rstrip('000')\n",
    "carSales['Price'] = pd.to_numeric(df['Price'])\n",
    "print(carSales)"
   ]
  },
  {
   "cell_type": "code",
   "execution_count": 200,
   "metadata": {},
   "outputs": [
    {
     "name": "stdout",
     "output_type": "stream",
     "text": [
      "0     4000.0\n",
      "1     5000.0\n",
      "2     7000.0\n",
      "3    22000.0\n",
      "4     3500.0\n",
      "5     4500.0\n",
      "6     7500.0\n",
      "7     7000.0\n",
      "8     6250.0\n",
      "9     9700.0\n",
      "Name: Price, dtype: float64\n"
     ]
    }
   ],
   "source": [
    "# Check the changes to the Price column\n",
    "print(carSales['Price'])"
   ]
  },
  {
   "cell_type": "code",
   "execution_count": 201,
   "metadata": {},
   "outputs": [
    {
     "name": "stdout",
     "output_type": "stream",
     "text": [
      "     Make Colour  Odometer (KM)  Doors  Price\n",
      "0  Toyota  White         150043      4   4000\n",
      "1   Honda    Red          87899      4   5000\n",
      "2  Toyota   Blue          32549      3   7000\n",
      "3     BMW  Black          11179      5  22000\n",
      "4  Nissan  White         213095      4   3500\n",
      "5  Toyota  Green          99213      4   4500\n",
      "6   Honda   Blue          45698      4   7500\n",
      "7   Honda   Blue          54738      4   7000\n",
      "8  Toyota  White          60000      4   6250\n",
      "9  Nissan  White          31600      4   9700\n"
     ]
    }
   ],
   "source": [
    "# Change the datatype of the Price column to integers\n",
    "carSales['Price'] = carSales['Price'].astype(int)\n",
    "print(carSales)"
   ]
  },
  {
   "cell_type": "code",
   "execution_count": 203,
   "metadata": {},
   "outputs": [
    {
     "name": "stdout",
     "output_type": "stream",
     "text": [
      "     Make Colour  Odometer (KM)  Doors  Price\n",
      "0  toyota  White         150043      4   4000\n",
      "1   honda    Red          87899      4   5000\n",
      "2  toyota   Blue          32549      3   7000\n",
      "3     bmw  Black          11179      5  22000\n",
      "4  nissan  White         213095      4   3500\n",
      "5  toyota  Green          99213      4   4500\n",
      "6   honda   Blue          45698      4   7500\n",
      "7   honda   Blue          54738      4   7000\n",
      "8  toyota  White          60000      4   6250\n",
      "9  nissan  White          31600      4   9700\n"
     ]
    }
   ],
   "source": [
    "# Lower the strings of the Make column\n",
    "carSales['Make'] = carSales['Make'].str.lower()\n",
    "print(carSales)"
   ]
  },
  {
   "cell_type": "markdown",
   "metadata": {},
   "source": [
    "If you check the car sales DataFrame, you'll notice the Make column hasn't been lowered.\n",
    "\n",
    "How could you make these changes permanent?\n",
    "\n",
    "Try it out."
   ]
  },
  {
   "cell_type": "code",
   "execution_count": 205,
   "metadata": {},
   "outputs": [],
   "source": [
    "# Make lowering the case of the Make column permanent\n"
   ]
  },
  {
   "cell_type": "code",
   "execution_count": 207,
   "metadata": {},
   "outputs": [
    {
     "name": "stdout",
     "output_type": "stream",
     "text": [
      "     Make Colour  Odometer (KM)  Doors  Price\n",
      "0  toyota  White         150043      4   4000\n",
      "1   honda    Red          87899      4   5000\n",
      "2  toyota   Blue          32549      3   7000\n",
      "3     bmw  Black          11179      5  22000\n",
      "4  nissan  White         213095      4   3500\n",
      "5  toyota  Green          99213      4   4500\n",
      "6   honda   Blue          45698      4   7500\n",
      "7   honda   Blue          54738      4   7000\n",
      "8  toyota  White          60000      4   6250\n",
      "9  nissan  White          31600      4   9700\n"
     ]
    }
   ],
   "source": [
    "# Check the car sales DataFrame\n",
    "print(carSales)"
   ]
  },
  {
   "cell_type": "markdown",
   "metadata": {},
   "source": [
    "Notice how the Make column stays lowered after reassigning.\n",
    "\n",
    "Now let's deal with missing data."
   ]
  },
  {
   "cell_type": "code",
   "execution_count": 41,
   "metadata": {},
   "outputs": [
    {
     "name": "stdout",
     "output_type": "stream",
     "text": [
      "     Make Colour  Odometer  Doors    Price\n",
      "0  Toyota  White  150043.0    4.0   $4,000\n",
      "1   Honda    Red   87899.0    4.0   $5,000\n",
      "2  Toyota   Blue       NaN    3.0   $7,000\n",
      "3     BMW  Black   11179.0    5.0  $22,000\n",
      "4  Nissan  White  213095.0    4.0   $3,500\n",
      "5  Toyota  Green       NaN    4.0   $4,500\n",
      "6   Honda    NaN       NaN    4.0   $7,500\n",
      "7   Honda   Blue       NaN    4.0      NaN\n",
      "8  Toyota  White   60000.0    NaN      NaN\n",
      "9     NaN  White   31600.0    4.0   $9,700\n"
     ]
    }
   ],
   "source": [
    "# Import the car sales DataFrame with missing data (\"../data/car-sales-missing-data.csv\")\n",
    "df2 = pd.read_csv(r\"/Users/rawanghanemhmx/Desktop/Task0/data/car-sales-missing-data.csv\")\n",
    "\n",
    "# Check out the new DataFrame\n",
    "print(df2)"
   ]
  },
  {
   "cell_type": "markdown",
   "metadata": {},
   "source": [
    "Notice the missing values are represented as `NaN` in pandas DataFrames.\n",
    "\n",
    "Let's try fill them."
   ]
  },
  {
   "cell_type": "code",
   "execution_count": 42,
   "metadata": {},
   "outputs": [
    {
     "name": "stdout",
     "output_type": "stream",
     "text": [
      "     Make Colour       Odometer  Doors    Price\n",
      "0  Toyota  White  150043.000000    4.0   $4,000\n",
      "1   Honda    Red   87899.000000    4.0   $5,000\n",
      "2  Toyota   Blue   92302.666667    3.0   $7,000\n",
      "3     BMW  Black   11179.000000    5.0  $22,000\n",
      "4  Nissan  White  213095.000000    4.0   $3,500\n",
      "5  Toyota  Green   92302.666667    4.0   $4,500\n",
      "6   Honda    NaN   92302.666667    4.0   $7,500\n",
      "7   Honda   Blue   92302.666667    4.0      NaN\n",
      "8  Toyota  White   60000.000000    NaN      NaN\n",
      "9     NaN  White   31600.000000    4.0   $9,700\n"
     ]
    }
   ],
   "source": [
    "# Fill the Odometer column missing values with the mean of the column inplace\n",
    "MessingData = df2\n",
    "MessingData['Odometer'].fillna(MessingData['Odometer'].mean(), inplace=True)\n",
    "print(MessingData)"
   ]
  },
  {
   "cell_type": "code",
   "execution_count": 43,
   "metadata": {},
   "outputs": [
    {
     "name": "stdout",
     "output_type": "stream",
     "text": [
      "Make        1\n",
      "Colour      1\n",
      "Odometer    0\n",
      "Doors       1\n",
      "Price       2\n",
      "dtype: int64\n"
     ]
    }
   ],
   "source": [
    "# View the car sales missing DataFrame and verify the changes\n",
    "print(MessingData.isnull().sum())"
   ]
  },
  {
   "cell_type": "code",
   "execution_count": 44,
   "metadata": {},
   "outputs": [
    {
     "name": "stdout",
     "output_type": "stream",
     "text": [
      "None\n"
     ]
    }
   ],
   "source": [
    "# Remove the rest of the missing data inplace\n",
    "print(MessingData.dropna(inplace=True))"
   ]
  },
  {
   "cell_type": "code",
   "execution_count": 45,
   "metadata": {},
   "outputs": [
    {
     "name": "stdout",
     "output_type": "stream",
     "text": [
      "     Make Colour       Odometer  Doors    Price\n",
      "0  Toyota  White  150043.000000    4.0   $4,000\n",
      "1   Honda    Red   87899.000000    4.0   $5,000\n",
      "2  Toyota   Blue   92302.666667    3.0   $7,000\n",
      "3     BMW  Black   11179.000000    5.0  $22,000\n",
      "4  Nissan  White  213095.000000    4.0   $3,500\n",
      "5  Toyota  Green   92302.666667    4.0   $4,500\n"
     ]
    }
   ],
   "source": [
    "# Verify the missing values are removed by viewing the DataFrame\n",
    "print(MessingData)"
   ]
  },
  {
   "cell_type": "markdown",
   "metadata": {},
   "source": [
    "We'll now start to add columns to our DataFrame."
   ]
  },
  {
   "cell_type": "code",
   "execution_count": 46,
   "metadata": {},
   "outputs": [
    {
     "name": "stdout",
     "output_type": "stream",
     "text": [
      "     Make Colour       Odometer  Doors    Price  Seats\n",
      "0  Toyota  White  150043.000000    4.0   $4,000      5\n",
      "1   Honda    Red   87899.000000    4.0   $5,000      5\n",
      "2  Toyota   Blue   92302.666667    3.0   $7,000      5\n",
      "3     BMW  Black   11179.000000    5.0  $22,000      5\n",
      "4  Nissan  White  213095.000000    4.0   $3,500      5\n",
      "5  Toyota  Green   92302.666667    4.0   $4,500      5\n"
     ]
    }
   ],
   "source": [
    "# Create a \"Seats\" column where every row has a value of 5\n",
    "MessingData['Seats'] = 5\n",
    "print(MessingData)"
   ]
  },
  {
   "cell_type": "code",
   "execution_count": 47,
   "metadata": {},
   "outputs": [
    {
     "name": "stdout",
     "output_type": "stream",
     "text": [
      "     Make Colour       Odometer  Doors    Price  Seats  Engine Size\n",
      "0  Toyota  White  150043.000000    4.0   $4,000      5     2.213381\n",
      "1   Honda    Red   87899.000000    4.0   $5,000      5     1.694761\n",
      "2  Toyota   Blue   92302.666667    3.0   $7,000      5     2.793237\n",
      "3     BMW  Black   11179.000000    5.0  $22,000      5     2.121422\n",
      "4  Nissan  White  213095.000000    4.0   $3,500      5     4.374819\n",
      "5  Toyota  Green   92302.666667    4.0   $4,500      5     2.791600\n"
     ]
    }
   ],
   "source": [
    "# Create a column called \"Engine Size\" with random values between 1.3 and 4.5\n",
    "# Remember: If you're doing it from a Python list, the list has to be the same length\n",
    "# as the DataFrame\n",
    "import numpy as np\n",
    "MessingData['Engine Size'] = np.random.uniform(1.3, 4.5, size=len(MessingData))\n",
    "print(MessingData)"
   ]
  },
  {
   "cell_type": "code",
   "execution_count": 53,
   "metadata": {},
   "outputs": [
    {
     "name": "stdout",
     "output_type": "stream",
     "text": [
      "     Make Colour       Odometer  Doors  Price  Seats  Price per kilometer\n",
      "0  Toyota  White  150043.000000    4.0   4000      5             0.026659\n",
      "1   Honda    Red   87899.000000    4.0   5000      5             0.056883\n",
      "2  Toyota   Blue   92302.666667    3.0   7000      5             0.075837\n",
      "3     BMW  Black   11179.000000    5.0  22000      5             1.967976\n",
      "4  Nissan  White  213095.000000    4.0   3500      5             0.016425\n",
      "5  Toyota  Green   92302.666667    4.0   4500      5             0.048753\n"
     ]
    }
   ],
   "source": [
    "# Create a column which represents the price of a car per kilometer\n",
    "# Then view the DataFrame\n",
    "\n",
    "MessingData['Price'] = MessingData['Price'].str.replace(',', '').str.replace('$', '')\n",
    "MessingData['Price per kilometer'] = MessingData['Price'].astype(float) / MessingData['Odometer']\n",
    "print(MessingData)"
   ]
  },
  {
   "cell_type": "code",
   "execution_count": 49,
   "metadata": {},
   "outputs": [
    {
     "name": "stdout",
     "output_type": "stream",
     "text": [
      "     Make Colour       Odometer  Doors    Price  Seats\n",
      "0  Toyota  White  150043.000000    4.0   $4,000      5\n",
      "1   Honda    Red   87899.000000    4.0   $5,000      5\n",
      "2  Toyota   Blue   92302.666667    3.0   $7,000      5\n",
      "3     BMW  Black   11179.000000    5.0  $22,000      5\n",
      "4  Nissan  White  213095.000000    4.0   $3,500      5\n",
      "5  Toyota  Green   92302.666667    4.0   $4,500      5\n"
     ]
    }
   ],
   "source": [
    "# Remove the last column you added using .drop()\n",
    "df2.drop('Engine Size', axis=1, inplace=True)\n",
    "print(df2)"
   ]
  },
  {
   "cell_type": "code",
   "execution_count": 244,
   "metadata": {},
   "outputs": [
    {
     "name": "stdout",
     "output_type": "stream",
     "text": [
      "     Make Colour  Odometer  Doors   Price  Seats\n",
      "1   Honda    Red   87899.0    4.0   5,000      5\n",
      "4  Nissan  White  213095.0    4.0   3,500      5\n",
      "5  Toyota  Green   92302.0    4.0   4,500      5\n",
      "0  Toyota  White  150043.0    4.0   4,000      5\n",
      "2  Toyota   Blue   92302.0    3.0   7,000      5\n",
      "3     BMW  Black   11179.0    5.0  22,000      5\n"
     ]
    }
   ],
   "source": [
    "# Shuffle the DataFrame using sample() with the frac parameter set to 1\n",
    "# Save the the shuffled DataFrame to a new variable\n",
    "\n",
    "shuffledDf2 = df2.sample(frac=1)\n",
    "print(shuffledDf2)"
   ]
  },
  {
   "cell_type": "markdown",
   "metadata": {},
   "source": [
    "Notice how the index numbers get moved around. The [`sample()`](https://pandas.pydata.org/pandas-docs/stable/reference/api/pandas.DataFrame.sample.html) function is a great way to get random samples from your DataFrame. It's also another great way to shuffle the rows by setting `frac=1`."
   ]
  },
  {
   "cell_type": "code",
   "execution_count": 245,
   "metadata": {},
   "outputs": [
    {
     "name": "stdout",
     "output_type": "stream",
     "text": [
      "     Make Colour  Odometer  Doors   Price  Seats\n",
      "0   Honda    Red   87899.0    4.0   5,000      5\n",
      "1  Nissan  White  213095.0    4.0   3,500      5\n",
      "2  Toyota  Green   92302.0    4.0   4,500      5\n",
      "3  Toyota  White  150043.0    4.0   4,000      5\n",
      "4  Toyota   Blue   92302.0    3.0   7,000      5\n",
      "5     BMW  Black   11179.0    5.0  22,000      5\n"
     ]
    }
   ],
   "source": [
    "# Reset the indexes of the shuffled DataFrame\n",
    "reset = shuffledDf2.reset_index(drop=True)\n",
    "print(reset)"
   ]
  },
  {
   "cell_type": "markdown",
   "metadata": {},
   "source": [
    "Notice the index numbers have been changed to have order (start from 0)."
   ]
  },
  {
   "cell_type": "code",
   "execution_count": 246,
   "metadata": {},
   "outputs": [
    {
     "name": "stdout",
     "output_type": "stream",
     "text": [
      "     Make Colour  Odometer  Doors   Price  Seats  Odometer in miles\n",
      "0  Toyota  White  150043.0    4.0   4,000      5       93232.368953\n",
      "1   Honda    Red   87899.0    4.0   5,000      5       54617.889529\n",
      "2  Toyota   Blue   92302.0    3.0   7,000      5       57353.786042\n",
      "3     BMW  Black   11179.0    5.0  22,000      5        6946.306409\n",
      "4  Nissan  White  213095.0    4.0   3,500      5      132411.053245\n",
      "5  Toyota  Green   92302.0    4.0   4,500      5       57353.786042\n"
     ]
    }
   ],
   "source": [
    "# Change the Odometer values from kilometers to miles using a Lambda function\n",
    "miles = lambda x: x * 0.621371\n",
    "df2['Odometer in miles'] = df2['Odometer'].apply(miles)\n",
    "# Then view the DataFrame\n",
    "print(df2)"
   ]
  },
  {
   "cell_type": "code",
   "execution_count": 247,
   "metadata": {},
   "outputs": [
    {
     "name": "stdout",
     "output_type": "stream",
     "text": [
      "     Make Colour  Odometer  Doors   Price  Seats  Odometer in miles\n",
      "0  Toyota  White  150043.0    4.0   4,000      5       93232.368953\n",
      "1   Honda    Red   87899.0    4.0   5,000      5       54617.889529\n",
      "2  Toyota   Blue   92302.0    3.0   7,000      5       57353.786042\n",
      "3     BMW  Black   11179.0    5.0  22,000      5        6946.306409\n",
      "4  Nissan  White  213095.0    4.0   3,500      5      132411.053245\n",
      "5  Toyota  Green   92302.0    4.0   4,500      5       57353.786042\n"
     ]
    }
   ],
   "source": [
    "# Change the title of the Odometer (KM) to represent miles instead of kilometers\n",
    "df2.rename(columns={'Odometer (KM)': 'Odometer (Miles)'}, inplace=True)\n",
    "print(df2)"
   ]
  },
  {
   "cell_type": "markdown",
   "metadata": {},
   "source": [
    "## Extensions\n",
    "\n",
    "For more exercises, check out the pandas documentation, particularly the [10-minutes to pandas section](https://pandas.pydata.org/pandas-docs/stable/user_guide/10min.html). \n",
    "\n",
    "One great exercise would be to retype out the entire section into a Jupyter Notebook of your own.\n",
    "\n",
    "Get hands-on with the code and see what it does.\n",
    "\n",
    "The next place you should check out are the [top questions and answers on Stack Overflow for pandas](https://stackoverflow.com/questions/tagged/pandas?sort=MostVotes&edited=true). Often, these contain some of the most useful and common pandas functions. Be sure to play around with the different filters!\n",
    "\n",
    "Finally, always remember, the best way to learn something new to is try it. Make mistakes. Ask questions, get things wrong, take note of the things you do most often. And don't worry if you keep making the same mistake, pandas has many ways to do the same thing and is a big library. So it'll likely take a while before you get the hang of it."
   ]
  }
 ],
 "metadata": {
  "kernelspec": {
   "display_name": "Python 3 (ipykernel)",
   "language": "python",
   "name": "python3"
  },
  "language_info": {
   "codemirror_mode": {
    "name": "ipython",
    "version": 3
   },
   "file_extension": ".py",
   "mimetype": "text/x-python",
   "name": "python",
   "nbconvert_exporter": "python",
   "pygments_lexer": "ipython3",
   "version": "3.11.5"
  }
 },
 "nbformat": 4,
 "nbformat_minor": 2
}
